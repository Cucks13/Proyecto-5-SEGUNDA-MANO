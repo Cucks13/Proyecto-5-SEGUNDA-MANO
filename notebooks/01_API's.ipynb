{
 "cells": [
  {
   "cell_type": "code",
   "execution_count": 2,
   "metadata": {},
   "outputs": [],
   "source": [
    "import pandas as pd\n",
    "import sys\n",
    "sys.path.append(\"../\")\n",
    "from src import soporte_api as saw\n",
    "import json"
   ]
  },
  {
   "cell_type": "markdown",
   "metadata": {},
   "source": [
    "# API WALLAPOP"
   ]
  },
  {
   "cell_type": "code",
   "execution_count": null,
   "metadata": {},
   "outputs": [],
   "source": [
    "producto = \"Play Station 5\"\n",
    "precio_min = \"200\"\n",
    "precio_max = \"350\"\n",
    "\n",
    "datos_wallpop = saw.busqueda_wallapop(producto, precio_min, precio_max)"
   ]
  },
  {
   "cell_type": "code",
   "execution_count": 2,
   "metadata": {},
   "outputs": [],
   "source": [
    "df_datos_wallapop = pd.read_json(\"../data/resultado.json\")\n",
    "df_datos_wallapop_limpios = saw.procesar_datos_wallapop(df_datos_wallapop)"
   ]
  },
  {
   "cell_type": "markdown",
   "metadata": {},
   "source": [
    "# API VINTED"
   ]
  },
  {
   "cell_type": "code",
   "execution_count": 3,
   "metadata": {},
   "outputs": [],
   "source": [
    "datos_vinted = saw.buscar_vinted(\"Play Station 5\")"
   ]
  },
  {
   "cell_type": "code",
   "execution_count": 4,
   "metadata": {},
   "outputs": [],
   "source": [
    "df_datos_vinted = pd.read_json(\"../data/vinted_ps5.json\")"
   ]
  },
  {
   "cell_type": "code",
   "execution_count": 5,
   "metadata": {},
   "outputs": [],
   "source": [
    "df_filtrado_vinted = df_datos_vinted[df_datos_vinted['title'].str.contains(\"Play Station 5|PS5\", case=False, na=False)]\n"
   ]
  },
  {
   "cell_type": "code",
   "execution_count": 6,
   "metadata": {},
   "outputs": [
    {
     "data": {
      "text/plain": [
       "0     https://www.vinted.es/items/5283154950-manette...\n",
       "13    https://www.vinted.es/items/4939889781-giochi-...\n",
       "62    https://www.vinted.es/items/3846502736-playsta...\n",
       "91    https://www.vinted.es/items/3130737089-esplosi...\n",
       "Name: url, dtype: object"
      ]
     },
     "execution_count": 6,
     "metadata": {},
     "output_type": "execute_result"
    }
   ],
   "source": [
    "df_filtrado_vinted[\"url\"] # nos damos cuenta que no hay ninguna play satation 5 a la venta actualmente en Vinted."
   ]
  },
  {
   "cell_type": "code",
   "execution_count": 7,
   "metadata": {},
   "outputs": [],
   "source": [
    "df_filtrado_vinted.to_csv(\"../data/datos_vinted_filtrados.csv\")"
   ]
  }
 ],
 "metadata": {
  "kernelspec": {
   "display_name": "Python 3",
   "language": "python",
   "name": "python3"
  },
  "language_info": {
   "codemirror_mode": {
    "name": "ipython",
    "version": 3
   },
   "file_extension": ".py",
   "mimetype": "text/x-python",
   "name": "python",
   "nbconvert_exporter": "python",
   "pygments_lexer": "ipython3",
   "version": "3.12.4"
  }
 },
 "nbformat": 4,
 "nbformat_minor": 2
}
