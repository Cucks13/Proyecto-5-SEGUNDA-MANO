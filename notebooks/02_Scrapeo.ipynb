{
 "cells": [
  {
   "cell_type": "code",
   "execution_count": 16,
   "metadata": {},
   "outputs": [],
   "source": [
    "import sys\n",
    "sys.path.append(\"../\")\n",
    "from src import soporte_scrap as ssc\n",
    "import pandas as pd\n",
    "from selenium import webdriver\n",
    "from selenium.webdriver.chrome.service import Service\n",
    "from webdriver_manager.chrome import ChromeDriverManager\n",
    "from selenium.webdriver.common.by import By\n",
    "from selenium.webdriver.support.ui import WebDriverWait\n",
    "from selenium.webdriver.support import expected_conditions as EC\n",
    "from bs4 import BeautifulSoup\n",
    "import time\n",
    "import numpy as np\n",
    "import pandas as pd"
   ]
  },
  {
   "cell_type": "markdown",
   "metadata": {},
   "source": [
    "# Scrapero Cash Converters"
   ]
  },
  {
   "cell_type": "code",
   "execution_count": 17,
   "metadata": {},
   "outputs": [
    {
     "name": "stdout",
     "output_type": "stream",
     "text": [
      "call url: https://www.cashconverters.es/es/es/comprar/videojuegos-y-consolas/consolas/consola-ps5/?cgid=5292&q=Play+Station+5&start=0&sz=72\n",
      "respuesta url: 200\n"
     ]
    }
   ],
   "source": [
    "url = \"https://www.cashconverters.es/es/es/comprar/videojuegos-y-consolas/consolas/consola-ps5/?cgid=5292&q=Play+Station+5&start=0&sz=72\"\n",
    "\n",
    "datos_cash_conerters = ssc.traer_productos_cash_converter(url)"
   ]
  },
  {
   "cell_type": "code",
   "execution_count": 20,
   "metadata": {},
   "outputs": [],
   "source": [
    "df_datos_cashconverters = pd.DataFrame(datos_cash_conerters)\n",
    "df_datos_cashconverters.to_csv(\"../data/datos_cash_converters.csv\")"
   ]
  },
  {
   "cell_type": "markdown",
   "metadata": {},
   "source": [
    "# Scrapeo mercado libre"
   ]
  },
  {
   "cell_type": "code",
   "execution_count": null,
   "metadata": {},
   "outputs": [],
   "source": [
    "url = \"https://listado.mercadolibre.com.mx/consolas-videojuegos/consolas/sony/playstation-5/usado/playstation-5_NoIndex_True#applied_filter_id%3DBRAND%26applied_filter_name%3DMarca%26applied_filter_order%3D2%26applied_value_id%3D995%26applied_value_name%3DSony%26applied_value_order%3D1%26applied_value_results%3D209%26is_custom%3Dfalse\"\n",
    "df_mercado_libre = ssc.traer_productos_mercado_libre(url)"
   ]
  },
  {
   "cell_type": "code",
   "execution_count": 11,
   "metadata": {},
   "outputs": [],
   "source": [
    "columnas_a_eliminar = [\"descripcion\", \"precio_mxn\", \"precio\"]\n",
    "df_mercado_libre = df_mercado_libre.drop(columnas_a_eliminar, axis=1, errors='ignore')"
   ]
  },
  {
   "cell_type": "code",
   "execution_count": 13,
   "metadata": {},
   "outputs": [],
   "source": [
    "df_mercado_libre.to_csv(\"../data/datos_mercado_libre.csv\")"
   ]
  }
 ],
 "metadata": {
  "kernelspec": {
   "display_name": "Python 3",
   "language": "python",
   "name": "python3"
  },
  "language_info": {
   "codemirror_mode": {
    "name": "ipython",
    "version": 3
   },
   "file_extension": ".py",
   "mimetype": "text/x-python",
   "name": "python",
   "nbconvert_exporter": "python",
   "pygments_lexer": "ipython3",
   "version": "3.12.4"
  }
 },
 "nbformat": 4,
 "nbformat_minor": 2
}
