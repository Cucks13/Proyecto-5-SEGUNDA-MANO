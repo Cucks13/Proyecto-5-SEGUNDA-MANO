{
 "cells": [
  {
   "cell_type": "code",
   "execution_count": 1,
   "metadata": {},
   "outputs": [],
   "source": [
    "import psycopg2\n",
    "import pandas as pd"
   ]
  },
  {
   "cell_type": "code",
   "execution_count": 16,
   "metadata": {},
   "outputs": [],
   "source": [
    "conn = psycopg2.connect(\n",
    "    host=\"localhost\",\n",
    "    database=\"proyecto_5\",\n",
    "    user=\"postgres\",\n",
    "    password=\"admin\"\n",
    ")\n",
    "cursor = conn.cursor()"
   ]
  },
  {
   "cell_type": "code",
   "execution_count": 12,
   "metadata": {},
   "outputs": [
    {
     "name": "stdout",
     "output_type": "stream",
     "text": [
      "Error al crear las tablas: error de sintaxis en o cerca de «user»\n",
      "LINE 11:     user JSON,\n",
      "             ^\n",
      "\n"
     ]
    }
   ],
   "source": [
    "\n",
    "\n",
    "# Script de creación de la tabla datos_cash_converters\n",
    "create_table_cash_converters = \"\"\"\n",
    "CREATE TABLE IF NOT EXISTS datos_cash_converters (\n",
    "    id SERIAL PRIMARY KEY,\n",
    "    titulo VARCHAR(255),\n",
    "    descripcion VARCHAR(255),\n",
    "    precio NUMERIC(10, 2)\n",
    ");\n",
    "\"\"\"\n",
    "\n",
    "# Script de creación de la tabla datos_mercado_libre\n",
    "create_table_mercado_libre = \"\"\"\n",
    "CREATE TABLE IF NOT EXISTS datos_mercado_libre (\n",
    "    id SERIAL PRIMARY KEY,\n",
    "    titulo VARCHAR(255),\n",
    "    link TEXT,\n",
    "    precio_eur NUMERIC(10, 2)\n",
    ");\n",
    "\"\"\"\n",
    "\n",
    "# Script de creación de la tabla datos_wallpop_limpios\n",
    "create_table_wallpop_limpios = \"\"\"\n",
    "CREATE TABLE IF NOT EXISTS datos_wallpop_limpios (\n",
    "    id SERIAL PRIMARY KEY,\n",
    "    wallpop_id VARCHAR(20),\n",
    "    user_id VARCHAR(20),\n",
    "    titulo VARCHAR(255),\n",
    "    descripcion TEXT,\n",
    "    categoria_id INTEGER,\n",
    "    precio NUMERIC(10, 2),\n",
    "    imagenes JSON,\n",
    "    reservado BOOLEAN,\n",
    "    localizacion VARCHAR(255),\n",
    "    golpe VARCHAR(20),\n",
    "    reacondicionado BOOLEAN,\n",
    "    url_producto TEXT,\n",
    "    posibilidad_envio BOOLEAN\n",
    ");\n",
    "\"\"\"\n",
    "\n",
    "# Script de creación de la tabla datos_vinted_filtrados\n",
    "create_table_vinted_filtrados = \"\"\"\n",
    "CREATE TABLE IF NOT EXISTS datos_vinted_filtrados (\n",
    "    id SERIAL PRIMARY KEY,\n",
    "    vinted_id VARCHAR(20),\n",
    "    title VARCHAR(255),\n",
    "    price NUMERIC(10, 2),\n",
    "    is_visible BOOLEAN,\n",
    "    discount NUMERIC(10, 2),\n",
    "    currency VARCHAR(10),\n",
    "    brand_title VARCHAR(50),\n",
    "    user JSON,\n",
    "    conversion NUMERIC(10, 2),\n",
    "    service_fee NUMERIC(10, 2),\n",
    "    total_item_price NUMERIC(10, 2),\n",
    "    view_count INTEGER,\n",
    "    size_title VARCHAR(50),\n",
    "    content_source VARCHAR(50),\n",
    "    status VARCHAR(50),\n",
    "    icon_badges JSON,\n",
    "    item_box JSON,\n",
    "    search_tracking_params JSON\n",
    ");\n",
    "\"\"\"\n",
    "\n",
    "# Ejecutar los scripts de creación de tablas\n",
    "try:\n",
    "    cursor.execute(create_table_cash_converters)\n",
    "    cursor.execute(create_table_mercado_libre)\n",
    "    cursor.execute(create_table_wallpop_limpios)\n",
    "    cursor.execute(create_table_vinted_filtrados)\n",
    "    conn.commit()\n",
    "    print(\"Tablas creadas con éxito.\")\n",
    "except Exception as e:\n",
    "    print(f\"Error al crear las tablas: {e}\")\n",
    "    conn.rollback()\n",
    "\n",
    "# Cerrar la conexión\n",
    "cursor.close()\n",
    "conn.close()\n"
   ]
  },
  {
   "cell_type": "code",
   "execution_count": 14,
   "metadata": {},
   "outputs": [],
   "source": [
    "# Función para cargar datos CSV en una tabla de PostgreSQL\n",
    "def bulk_insert_from_csv(file_path, table_name, conn):\n",
    "    with open(file_path, 'r', encoding='utf-8') as f:\n",
    "        # Usa copy_expert para realizar un COPY FROM\n",
    "        cursor = conn.cursor()\n",
    "        sql = table_name\n",
    "        cursor.copy_expert(sql, f)\n",
    "        conn.commit()\n"
   ]
  },
  {
   "cell_type": "code",
   "execution_count": 19,
   "metadata": {},
   "outputs": [
    {
     "ename": "SyntaxError",
     "evalue": "error de sintaxis en o cerca de «datos_mercado_libre»\nLINE 1: datos_mercado_libre\n        ^\n",
     "output_type": "error",
     "traceback": [
      "\u001b[1;31m---------------------------------------------------------------------------\u001b[0m",
      "\u001b[1;31mSyntaxError\u001b[0m                               Traceback (most recent call last)",
      "Cell \u001b[1;32mIn[19], line 1\u001b[0m\n\u001b[1;32m----> 1\u001b[0m \u001b[43mbulk_insert_from_csv\u001b[49m\u001b[43m(\u001b[49m\u001b[38;5;124;43m'\u001b[39;49m\u001b[38;5;124;43m../data/datos_mercado_libre.csv\u001b[39;49m\u001b[38;5;124;43m'\u001b[39;49m\u001b[43m,\u001b[49m\u001b[43m \u001b[49m\u001b[38;5;124;43m'\u001b[39;49m\u001b[38;5;124;43mdatos_mercado_libre\u001b[39;49m\u001b[38;5;124;43m'\u001b[39;49m\u001b[43m,\u001b[49m\u001b[43m \u001b[49m\u001b[43mconn\u001b[49m\u001b[43m)\u001b[49m\n",
      "Cell \u001b[1;32mIn[14], line 7\u001b[0m, in \u001b[0;36mbulk_insert_from_csv\u001b[1;34m(file_path, table_name, conn)\u001b[0m\n\u001b[0;32m      5\u001b[0m cursor \u001b[38;5;241m=\u001b[39m conn\u001b[38;5;241m.\u001b[39mcursor()\n\u001b[0;32m      6\u001b[0m sql \u001b[38;5;241m=\u001b[39m table_name\n\u001b[1;32m----> 7\u001b[0m \u001b[43mcursor\u001b[49m\u001b[38;5;241;43m.\u001b[39;49m\u001b[43mcopy_expert\u001b[49m\u001b[43m(\u001b[49m\u001b[43msql\u001b[49m\u001b[43m,\u001b[49m\u001b[43m \u001b[49m\u001b[43mf\u001b[49m\u001b[43m)\u001b[49m\n\u001b[0;32m      8\u001b[0m conn\u001b[38;5;241m.\u001b[39mcommit()\n",
      "\u001b[1;31mSyntaxError\u001b[0m: error de sintaxis en o cerca de «datos_mercado_libre»\nLINE 1: datos_mercado_libre\n        ^\n"
     ]
    }
   ],
   "source": [
    "bulk_insert_from_csv('../data/datos_mercado_libre.csv', 'datos_mercado_libre', conn)\n"
   ]
  },
  {
   "cell_type": "code",
   "execution_count": null,
   "metadata": {},
   "outputs": [],
   "source": [
    "bulk_insert_from_csv('/ruta/al/archivo/datos_cash_converters.csv', 'datos_cash_converters', conn)\n",
    "# Insertar datos de cada CSV en su respectiva tabla\n",
    "bulk_insert_from_csv('/ruta/al/archivo/datos_wallpop_limpios.csv', 'datos_wallpop_limpios', conn)\n",
    "bulk_insert_from_csv('/ruta/al/archivo/datos_vinted_filtrados.csv', 'datos_vinted_filtrados', conn)\n"
   ]
  },
  {
   "cell_type": "code",
   "execution_count": null,
   "metadata": {},
   "outputs": [],
   "source": [
    "# Cerrar la conexión\n",
    "cursor.close()\n",
    "conn.close()"
   ]
  }
 ],
 "metadata": {
  "kernelspec": {
   "display_name": "Python 3",
   "language": "python",
   "name": "python3"
  },
  "language_info": {
   "codemirror_mode": {
    "name": "ipython",
    "version": 3
   },
   "file_extension": ".py",
   "mimetype": "text/x-python",
   "name": "python",
   "nbconvert_exporter": "python",
   "pygments_lexer": "ipython3",
   "version": "3.12.4"
  }
 },
 "nbformat": 4,
 "nbformat_minor": 2
}
