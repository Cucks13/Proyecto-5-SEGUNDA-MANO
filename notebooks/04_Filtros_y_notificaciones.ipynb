{
 "cells": [
  {
   "cell_type": "code",
   "execution_count": 42,
   "metadata": {},
   "outputs": [],
   "source": [
    "import psycopg2\n",
    "import pandas as pd\n",
    "import sys\n",
    "sys.path.append(\"../\")\n",
    "from src import soporte_wallapop as swallapop\n",
    "from src import soporte_vinted as svinted\n",
    "from src import soporte_cash_converters as scash\n",
    "from src import soporte_mercado_libre as smerc"
   ]
  },
  {
   "cell_type": "markdown",
   "metadata": {},
   "source": [
    "He creado unas tablas vacías con la misma estructura que las tablas para introducir las que nos interese:"
   ]
  },
  {
   "cell_type": "code",
   "execution_count": null,
   "metadata": {
    "vscode": {
     "languageId": "sql"
    }
   },
   "outputs": [],
   "source": [
    "CREATE TABLE wallapop_interesante AS\n",
    "SELECT * FROM datos_wallpop_limpios WHERE 1=0;\n",
    "\n",
    "\n",
    "CREATE TABLE vinted_interesante AS\n",
    "SELECT * FROM datos_vinted_filtrados WHERE 1=0;\n",
    "\n",
    "\n",
    "\n",
    "CREATE TABLE cash_converters_interesante AS\n",
    "SELECT * FROM datos_cash_converters WHERE 1=0;\n",
    "\n",
    "\n",
    "\n",
    "CREATE TABLE mercado_libre_interesante AS\n",
    "SELECT * FROM datos_mercado_libre WHERE 1=0;"
   ]
  },
  {
   "cell_type": "markdown",
   "metadata": {},
   "source": [
    "Decido hacer la media de venta de mi producto (ps5), para saber que productos me pueden interesar comprar"
   ]
  },
  {
   "cell_type": "code",
   "execution_count": 40,
   "metadata": {},
   "outputs": [],
   "source": [
    "conn = psycopg2.connect(\n",
    "    host=\"localhost\",\n",
    "    database=\"proyecto_5\",\n",
    "    user=\"postgres\",\n",
    "    password=\"admin\"\n",
    ")\n",
    "cursor = conn.cursor()"
   ]
  },
  {
   "cell_type": "code",
   "execution_count": 12,
   "metadata": {},
   "outputs": [],
   "source": [
    "conn.rollback()"
   ]
  },
  {
   "cell_type": "markdown",
   "metadata": {},
   "source": [
    "## Wallapop"
   ]
  },
  {
   "cell_type": "code",
   "execution_count": null,
   "metadata": {},
   "outputs": [],
   "source": [
    "\n",
    "cursor = conn.cursor()\n",
    "\n",
    "media_productos_wallapop = \"\"\"\n",
    "SELECT AVG(precio) AS media_precio FROM datos_wallpop_limpios;\n",
    "\"\"\"\n",
    "\n",
    "cursor.execute(media_productos_wallapop)\n",
    "media_precio = cursor.fetchall()[0]  \n",
    "\n",
    "print(\"Media de precio:\", media_precio)\n",
    "\n",
    "consulta_insertar = \"\"\"\n",
    "INSERT INTO wallapop_interesante (wallpop_id, user_id, titulo, descripcion, categoria_id, precio, \n",
    "                                  imagenes, reservado, localizacion, golpe, reacondicionado, \n",
    "                                  url_producto, posibilidad_envio)\n",
    "SELECT wallpop_id, user_id, titulo, descripcion, categoria_id, precio, \n",
    "       imagenes, reservado, localizacion, golpe, reacondicionado, \n",
    "       url_producto, posibilidad_envio\n",
    "FROM datos_wallpop_limpios\n",
    "WHERE precio < %s;\n",
    "\"\"\"\n",
    "\n",
    "cursor.execute(consulta_insertar, (media_precio,))\n",
    "\n",
    "conn.commit()\n",
    "\n",
    "cursor.close()\n",
    "conn.close()\n",
    "\n",
    "print(\"Productos copiados a wallapop_interesante con éxito.\")\n"
   ]
  },
  {
   "cell_type": "code",
   "execution_count": 56,
   "metadata": {},
   "outputs": [
    {
     "name": "stderr",
     "output_type": "stream",
     "text": [
      "C:\\Users\\almaz\\AppData\\Local\\Temp\\ipykernel_19092\\2915255581.py:16: UserWarning: pandas only supports SQLAlchemy connectable (engine/connection) or database string URI or sqlite3 DBAPI2 connection. Other DBAPI2 objects are not tested. Please consider using SQLAlchemy.\n",
      "  df = pd.read_sql_query(query, conn)\n"
     ]
    }
   ],
   "source": [
    "df_datos_wallapop = swallapop.obtener_datos_wallapop_sql()"
   ]
  },
  {
   "cell_type": "code",
   "execution_count": 57,
   "metadata": {},
   "outputs": [],
   "source": [
    "archivo_pdf = \"datos_wallapop_interesantes.pdf\"\n",
    "swallapop.generar_pdf(df_datos_wallapop, archivo_pdf)"
   ]
  },
  {
   "cell_type": "code",
   "execution_count": 53,
   "metadata": {},
   "outputs": [
    {
     "name": "stdout",
     "output_type": "stream",
     "text": [
      "Correo enviado exitosamente.\n"
     ]
    }
   ],
   "source": [
    "swallapop.enviar_correo_con_adjunto(\n",
    "    destinatario=\"almazanlucas@gmail.com\",\n",
    "    asunto=\"Productos de Wallapop - PS5\",\n",
    "    cuerpo=\"Adjunto encontrarás el informe de productos de PS5 en Wallapop.\",\n",
    "    archivo_adj=archivo_pdf\n",
    ")"
   ]
  },
  {
   "cell_type": "markdown",
   "metadata": {},
   "source": [
    "## Vinted"
   ]
  },
  {
   "cell_type": "markdown",
   "metadata": {},
   "source": [
    "> A dia de hoy no hay Play Station 5 a la venta en Vinted, no obstante es interesante no perder de vista esta plataforma ya que puede haber en algun momento."
   ]
  },
  {
   "cell_type": "code",
   "execution_count": 31,
   "metadata": {},
   "outputs": [
    {
     "name": "stdout",
     "output_type": "stream",
     "text": [
      "Media de precio para Vinted: 11784.3250000000000000\n"
     ]
    }
   ],
   "source": [
    "media_vinted = \"\"\"\n",
    "SELECT AVG(total_item_price) AS media_precio FROM datos_vinted_filtrados;\n",
    "\"\"\"\n",
    "cursor.execute(media_vinted)\n",
    "media_precio_vinted = cursor.fetchone()[0]\n",
    "print(\"Media de precio para Vinted:\", media_precio_vinted)\n",
    "\n",
    "insertar_vinted = \"\"\"\n",
    "INSERT INTO vinted_interesante (id, title, is_visible, currency, brand_title, url, \n",
    "                                promoted, favourite_count, is_favourite, total_item_price, status)\n",
    "SELECT id, title, is_visible, currency, brand_title, url, \n",
    "       promoted, favourite_count, is_favourite, total_item_price, status\n",
    "FROM datos_vinted_filtrados\n",
    "WHERE total_item_price < %s;\n",
    "\"\"\"\n",
    "cursor.execute(insertar_vinted, (media_precio_vinted,))"
   ]
  },
  {
   "cell_type": "code",
   "execution_count": null,
   "metadata": {},
   "outputs": [],
   "source": [
    "df_datos_vinted = svinted.obtener_datos_vinted_sql()"
   ]
  },
  {
   "cell_type": "code",
   "execution_count": null,
   "metadata": {},
   "outputs": [],
   "source": [
    "archivo_pdf = \"datos_vinted_interesantes.pdf\"\n",
    "svinted.generar_pdf(df_datos_vinted, archivo_pdf)"
   ]
  },
  {
   "cell_type": "code",
   "execution_count": null,
   "metadata": {},
   "outputs": [],
   "source": [
    "svinted.enviar_correo_con_adjunto(\n",
    "    destinatario=\"almazanlucas@gmail.com\",\n",
    "    asunto=\"Productos de Vinted - PS5\",\n",
    "    cuerpo=\"Adjunto encontrarás el informe de productos de PS5 en Vinted.\",\n",
    "    archivo_adj=archivo_pdf\n",
    ")"
   ]
  },
  {
   "cell_type": "markdown",
   "metadata": {},
   "source": [
    "## Cash Converters"
   ]
  },
  {
   "cell_type": "code",
   "execution_count": 38,
   "metadata": {},
   "outputs": [
    {
     "name": "stdout",
     "output_type": "stream",
     "text": [
      "Media de precio para Cash Converters: 370.95\n"
     ]
    }
   ],
   "source": [
    "media_cash_converters = \"\"\"\n",
    "SELECT AVG(precio) AS media_precio FROM datos_cash_converters;\n",
    "\"\"\"\n",
    "cursor.execute(media_cash_converters)\n",
    "media_precio_cash_converters = cursor.fetchone()[0]\n",
    "print(\"Media de precio para Cash Converters:\", media_precio_cash_converters)\n",
    "\n",
    "insertar_cash_converters = \"\"\"\n",
    "INSERT INTO cash_converters_interesante (titulo, descripcion, precio)\n",
    "SELECT titulo, descripcion, precio\n",
    "FROM datos_cash_converters\n",
    "WHERE precio < %s;\n",
    "\"\"\"\n",
    "cursor.execute(insertar_cash_converters, (media_precio_cash_converters,))\n",
    "\n",
    "conn.commit()\n",
    "\n",
    "cursor.close()\n",
    "conn.close()"
   ]
  },
  {
   "cell_type": "code",
   "execution_count": null,
   "metadata": {},
   "outputs": [],
   "source": [
    "df_datos_cash = scash.obtener_datos_cash_converters_sql()"
   ]
  },
  {
   "cell_type": "code",
   "execution_count": null,
   "metadata": {},
   "outputs": [],
   "source": [
    "archivo_pdf = \"datos_cash_interesantes.pdf\"\n",
    "scash.generar_pdf(df_datos_cash, archivo_pdf)"
   ]
  },
  {
   "cell_type": "code",
   "execution_count": null,
   "metadata": {},
   "outputs": [],
   "source": [
    "scash.enviar_correo_con_adjunto(\n",
    "    destinatario=\"almazanlucas@gmail.com\",\n",
    "    asunto=\"Productos de cash - PS5\",\n",
    "    cuerpo=\"Adjunto encontrarás el informe de productos de PS5 en cash.\",\n",
    "    archivo_adj=archivo_pdf\n",
    ")"
   ]
  },
  {
   "cell_type": "markdown",
   "metadata": {},
   "source": [
    "## Mercado Libre"
   ]
  },
  {
   "cell_type": "code",
   "execution_count": 41,
   "metadata": {},
   "outputs": [
    {
     "name": "stdout",
     "output_type": "stream",
     "text": [
      "Media de precio para Mercado Libre: 449.7244897959183673\n"
     ]
    }
   ],
   "source": [
    "media_mercado_libre = \"\"\"\n",
    "SELECT AVG(precio_eur) AS media_precio FROM datos_mercado_libre;\n",
    "\"\"\"\n",
    "cursor.execute(media_mercado_libre)\n",
    "media_precio_mercado_libre = cursor.fetchone()[0]\n",
    "print(\"Media de precio para Mercado Libre:\", media_precio_mercado_libre)\n",
    "\n",
    "insertar_mercado_libre = \"\"\"\n",
    "INSERT INTO mercado_libre_interesante (titulo, link, precio_eur)\n",
    "SELECT titulo, link, precio_eur\n",
    "FROM datos_mercado_libre\n",
    "WHERE precio_eur < %s;\n",
    "\"\"\"\n",
    "cursor.execute(insertar_mercado_libre, (media_precio_mercado_libre,))"
   ]
  },
  {
   "cell_type": "code",
   "execution_count": null,
   "metadata": {},
   "outputs": [],
   "source": [
    "df_datos_cash = smerc.obtener_datos_mercado_libre_sql()"
   ]
  },
  {
   "cell_type": "code",
   "execution_count": null,
   "metadata": {},
   "outputs": [],
   "source": [
    "archivo_pdf = \"datos_cash_interesantes.pdf\"\n",
    "smerc.generar_pdf(df_datos_cash, archivo_pdf)"
   ]
  },
  {
   "cell_type": "code",
   "execution_count": null,
   "metadata": {},
   "outputs": [],
   "source": [
    "smerc.enviar_correo_con_adjunto(\n",
    "    destinatario=\"almazanlucas@gmail.com\",\n",
    "    asunto=\"Productos de mercado libre - PS5\",\n",
    "    cuerpo=\"Adjunto encontrarás el informe de productos de PS5 en Mercado Liber.\",\n",
    "    archivo_adj=archivo_pdf\n",
    ")"
   ]
  }
 ],
 "metadata": {
  "kernelspec": {
   "display_name": "Python 3",
   "language": "python",
   "name": "python3"
  },
  "language_info": {
   "codemirror_mode": {
    "name": "ipython",
    "version": 3
   },
   "file_extension": ".py",
   "mimetype": "text/x-python",
   "name": "python",
   "nbconvert_exporter": "python",
   "pygments_lexer": "ipython3",
   "version": "3.12.4"
  }
 },
 "nbformat": 4,
 "nbformat_minor": 2
}
