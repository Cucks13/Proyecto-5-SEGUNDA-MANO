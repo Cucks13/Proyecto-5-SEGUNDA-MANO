{
 "cells": [
  {
   "cell_type": "code",
   "execution_count": 40,
   "metadata": {},
   "outputs": [],
   "source": [
    "import psycopg2\n",
    "import pandas as pd\n",
    "from fpdf import FPDF\n",
    "import smtplib\n",
    "from email.mime.multipart import MIMEMultipart\n",
    "from email.mime.text import MIMEText\n",
    "from email.mime.base import MIMEBase\n",
    "from email import encoders\n",
    "import os"
   ]
  },
  {
   "cell_type": "markdown",
   "metadata": {},
   "source": [
    "He creado unas tablas vacías con la misma estructura que las tablas para introducir las que nos interese:"
   ]
  },
  {
   "cell_type": "code",
   "execution_count": null,
   "metadata": {
    "vscode": {
     "languageId": "sql"
    }
   },
   "outputs": [],
   "source": [
    "CREATE TABLE wallapop_interesante AS\n",
    "SELECT * FROM datos_wallpop_limpios WHERE 1=0;\n",
    "\n",
    "\n",
    "CREATE TABLE vinted_interesante AS\n",
    "SELECT * FROM datos_vinted_filtrados WHERE 1=0;\n",
    "\n",
    "\n",
    "\n",
    "CREATE TABLE cash_converters_interesante AS\n",
    "SELECT * FROM datos_cash_converters WHERE 1=0;\n",
    "\n",
    "\n",
    "\n",
    "CREATE TABLE mercado_libre_interesante AS\n",
    "SELECT * FROM datos_mercado_libre WHERE 1=0;"
   ]
  },
  {
   "cell_type": "markdown",
   "metadata": {},
   "source": [
    "Decido hacer la media de venta de mi producto (ps5), para saber que productos me pueden interesar comprar"
   ]
  },
  {
   "cell_type": "code",
   "execution_count": 36,
   "metadata": {},
   "outputs": [],
   "source": [
    "conn = psycopg2.connect(\n",
    "    host=\"localhost\",\n",
    "    database=\"proyecto_5\",\n",
    "    user=\"postgres\",\n",
    "    password=\"admin\"\n",
    ")\n",
    "cursor = conn.cursor()"
   ]
  },
  {
   "cell_type": "markdown",
   "metadata": {},
   "source": [
    "## Wallapop"
   ]
  },
  {
   "cell_type": "code",
   "execution_count": 24,
   "metadata": {},
   "outputs": [],
   "source": [
    "conn.rollback()"
   ]
  },
  {
   "cell_type": "code",
   "execution_count": 37,
   "metadata": {},
   "outputs": [
    {
     "name": "stdout",
     "output_type": "stream",
     "text": [
      "Media de precio: 319.6429411764705882\n",
      "Productos copiados a wallapop_interesante con éxito.\n"
     ]
    }
   ],
   "source": [
    "cursor = conn.cursor()\n",
    "\n",
    "# Definir la consulta para calcular la media\n",
    "media_productos_wallapop = \"\"\"\n",
    "SELECT AVG(precio) AS media_precio FROM datos_wallpop_limpios;\n",
    "\"\"\"\n",
    "\n",
    "# Ejecutar la consulta y obtener el resultado de la media\n",
    "cursor.execute(media_productos_wallapop)\n",
    "media_precio = cursor.fetchone()[0]  # Obtener solo el valor de la media\n",
    "\n",
    "print(\"Media de precio:\", media_precio)\n",
    "\n",
    "# Paso 3: Insertar en wallapop_interesante los productos que cumplen el criterio\n",
    "consulta_insertar = \"\"\"\n",
    "INSERT INTO wallapop_interesante (wallpop_id, user_id, titulo, descripcion, categoria_id, precio, \n",
    "                                  imagenes, reservado, localizacion, golpe, reacondicionado, \n",
    "                                  url_producto, posibilidad_envio)\n",
    "SELECT wallpop_id, user_id, titulo, descripcion, categoria_id, precio, \n",
    "       imagenes, reservado, localizacion, golpe, reacondicionado, \n",
    "       url_producto, posibilidad_envio\n",
    "FROM datos_wallpop_limpios\n",
    "WHERE precio < %s;\n",
    "\"\"\"\n",
    "\n",
    "# Ejecutar la consulta de inserción con la media como parámetro\n",
    "cursor.execute(consulta_insertar, (media_precio,))      \n",
    "\n",
    "# Confirmar los cambios en la base de datos\n",
    "conn.commit()\n",
    "\n",
    "# Cerrar el cursor y la conexión\n",
    "cursor.close()\n",
    "conn.close()\n",
    "\n",
    "print(\"Productos copiados a wallapop_interesante con éxito.\")\n"
   ]
  },
  {
   "cell_type": "code",
   "execution_count": 49,
   "metadata": {},
   "outputs": [],
   "source": [
    "def obtener_datos_wallapop_sql():\n",
    "    \"\"\"\n",
    "    Conecta a la base de datos y extrae los datos filtrados de Wallapop.\n",
    "    Retorna un DataFrame con los datos.\n",
    "    \"\"\"\n",
    "    # Conectar a la base de datos\n",
    "    conn = psycopg2.connect(\n",
    "        dbname=\"proyecto_5\",\n",
    "        user=\"postgres\",\n",
    "        password=\"admin\",\n",
    "        host=\"localhost\",\n",
    "        port=\"5432\"\n",
    "    )\n",
    "    \n",
    "    query = \"SELECT url_producto FROM wallapop_interesante\"\n",
    "    df = pd.read_sql_query(query, conn)\n",
    "    \n",
    "    # Cerrar conexión\n",
    "    conn.close()\n",
    "    \n",
    "    return df\n",
    "\n",
    "def generar_pdf(df, output_path=\"../data/informes_interesantes\"):\n",
    "    \"\"\"\n",
    "    Genera un PDF a partir de un DataFrame y lo guarda en output_path.\n",
    "    \"\"\"\n",
    "    pdf = FPDF()\n",
    "    pdf.add_page()\n",
    "    pdf.set_font(\"Arial\", size=10)\n",
    "    \n",
    "    # Título\n",
    "    pdf.cell(200, 10, txt=\"Datos de Wallapop - Productos PS5\", ln=True, align='C')\n",
    "    pdf.ln(10)  # Salto de línea\n",
    "    \n",
    "    # Agregar filas de datos\n",
    "    for i, row in df.iterrows():\n",
    "        pdf.cell(200, 10, txt=\", \".join(str(value) for value in row.values), ln=True)\n",
    "    \n",
    "    # Guardar el PDF\n",
    "    pdf.output(output_path)\n",
    "\n",
    "def enviar_correo_con_adjunto(destinatario, asunto, cuerpo, archivo_adj):\n",
    "    \"\"\"\n",
    "    Envía un correo electrónico con un archivo adjunto.\n",
    "    \"\"\"\n",
    "    remitente = \"mdlflucas@gmail.com\"\n",
    "    contraseña = \"slak evdq fdek farx\"\n",
    "    \n",
    "    mensaje = MIMEMultipart()\n",
    "    mensaje['From'] = remitente\n",
    "    mensaje['To'] = destinatario\n",
    "    mensaje['Subject'] = asunto\n",
    "    mensaje.attach(MIMEText(cuerpo, 'plain'))\n",
    "    \n",
    "    # Adjuntar archivo PDF\n",
    "    with open(archivo_adj, \"rb\") as adjunto:\n",
    "        mime_base = MIMEBase('application', 'octet-stream')\n",
    "        mime_base.set_payload(adjunto.read())\n",
    "        encoders.encode_base64(mime_base)\n",
    "        mime_base.add_header('Content-Disposition', f'attachment; filename={os.path.basename(archivo_adj)}')\n",
    "        mensaje.attach(mime_base)\n",
    "    \n",
    "    try:\n",
    "        with smtplib.SMTP('smtp.gmail.com', 587) as server:\n",
    "            server.starttls()\n",
    "            server.login(remitente, contraseña)\n",
    "            server.send_message(mensaje)\n",
    "        print(\"Correo enviado exitosamente.\")\n",
    "    except Exception as e:\n",
    "        print(f\"Error al enviar el correo: {e}\")\n",
    "\n"
   ]
  },
  {
   "cell_type": "code",
   "execution_count": 50,
   "metadata": {},
   "outputs": [
    {
     "name": "stderr",
     "output_type": "stream",
     "text": [
      "C:\\Users\\almaz\\AppData\\Local\\Temp\\ipykernel_19092\\2915255581.py:16: UserWarning: pandas only supports SQLAlchemy connectable (engine/connection) or database string URI or sqlite3 DBAPI2 connection. Other DBAPI2 objects are not tested. Please consider using SQLAlchemy.\n",
      "  df = pd.read_sql_query(query, conn)\n"
     ]
    }
   ],
   "source": [
    "# Obtener datos desde la base de datos\n",
    "df_datos_wallapop = obtener_datos_wallapop_sql()"
   ]
  },
  {
   "cell_type": "code",
   "execution_count": 51,
   "metadata": {},
   "outputs": [],
   "source": [
    "# Generar PDF a partir de los datos\n",
    "archivo_pdf = \"datos_wallapop_interesantes.pdf\"\n",
    "generar_pdf(df_datos_wallapop, archivo_pdf)"
   ]
  },
  {
   "cell_type": "code",
   "execution_count": 52,
   "metadata": {},
   "outputs": [
    {
     "name": "stdout",
     "output_type": "stream",
     "text": [
      "Correo enviado exitosamente.\n"
     ]
    }
   ],
   "source": [
    "# Enviar el PDF por correo\n",
    "enviar_correo_con_adjunto(\n",
    "    destinatario=\"marioosunamartinez10@gmail.com\",\n",
    "    asunto=\"Productos de Wallapop - PS5\",\n",
    "    cuerpo=\"Adjunto encontrarás el informe de productos de PS5 en Wallapop.\",\n",
    "    archivo_adj=archivo_pdf\n",
    ")"
   ]
  }
 ],
 "metadata": {
  "kernelspec": {
   "display_name": "Python 3",
   "language": "python",
   "name": "python3"
  },
  "language_info": {
   "codemirror_mode": {
    "name": "ipython",
    "version": 3
   },
   "file_extension": ".py",
   "mimetype": "text/x-python",
   "name": "python",
   "nbconvert_exporter": "python",
   "pygments_lexer": "ipython3",
   "version": "3.12.4"
  }
 },
 "nbformat": 4,
 "nbformat_minor": 2
}
